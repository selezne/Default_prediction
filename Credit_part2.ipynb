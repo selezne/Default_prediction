{
 "cells": [
  {
   "cell_type": "markdown",
   "id": "6edb0347",
   "metadata": {},
   "source": [
    "Попробуем решить ту же задачу, но с использованием XGBoost\n",
    "--"
   ]
  },
  {
   "cell_type": "markdown",
   "id": "aa3e14fb",
   "metadata": {},
   "source": [
    "**Импортируем необходимые инструменты**"
   ]
  },
  {
   "cell_type": "code",
   "execution_count": 1,
   "id": "4a0d8301",
   "metadata": {},
   "outputs": [],
   "source": [
    "import pandas as pd\n",
    "import numpy as np\n",
    "import xgboost as xgb\n",
    "from sklearn.model_selection import train_test_split\n",
    "from sklearn.metrics import roc_auc_score, make_scorer\n",
    "from sklearn.model_selection import GridSearchCV\n",
    "from sklearn.metrics import classification_report\n",
    "from sklearn.metrics import confusion_matrix\n",
    "from sklearn.preprocessing import OrdinalEncoder\n",
    "from sklearn.preprocessing import StandardScaler"
   ]
  },
  {
   "cell_type": "markdown",
   "id": "bc5d4b05",
   "metadata": {},
   "source": [
    "**Читаем тренировочные данные**"
   ]
  },
  {
   "cell_type": "code",
   "execution_count": 2,
   "id": "0246d070",
   "metadata": {},
   "outputs": [
    {
     "data": {
      "text/html": [
       "<div>\n",
       "<style scoped>\n",
       "    .dataframe tbody tr th:only-of-type {\n",
       "        vertical-align: middle;\n",
       "    }\n",
       "\n",
       "    .dataframe tbody tr th {\n",
       "        vertical-align: top;\n",
       "    }\n",
       "\n",
       "    .dataframe thead th {\n",
       "        text-align: right;\n",
       "    }\n",
       "</style>\n",
       "<table border=\"1\" class=\"dataframe\">\n",
       "  <thead>\n",
       "    <tr style=\"text-align: right;\">\n",
       "      <th></th>\n",
       "      <th>ID</th>\n",
       "      <th>A</th>\n",
       "      <th>B</th>\n",
       "      <th>C</th>\n",
       "      <th>D</th>\n",
       "      <th>E</th>\n",
       "      <th>F</th>\n",
       "      <th>G</th>\n",
       "      <th>H</th>\n",
       "      <th>I</th>\n",
       "      <th>...</th>\n",
       "      <th>P</th>\n",
       "      <th>Q</th>\n",
       "      <th>R</th>\n",
       "      <th>S</th>\n",
       "      <th>T</th>\n",
       "      <th>U</th>\n",
       "      <th>V</th>\n",
       "      <th>W</th>\n",
       "      <th>X</th>\n",
       "      <th>MARKER</th>\n",
       "    </tr>\n",
       "  </thead>\n",
       "  <tbody>\n",
       "    <tr>\n",
       "      <th>0</th>\n",
       "      <td>1</td>\n",
       "      <td>0.198778</td>\n",
       "      <td>0.099389</td>\n",
       "      <td>0.00</td>\n",
       "      <td>799.90</td>\n",
       "      <td>1.777556</td>\n",
       "      <td>0.888778</td>\n",
       "      <td>13</td>\n",
       "      <td>3.49</td>\n",
       "      <td>Woman</td>\n",
       "      <td>...</td>\n",
       "      <td>2 Two</td>\n",
       "      <td>property</td>\n",
       "      <td>No</td>\n",
       "      <td>Works</td>\n",
       "      <td>Yes</td>\n",
       "      <td>Yes</td>\n",
       "      <td>No</td>\n",
       "      <td>Yes</td>\n",
       "      <td>No</td>\n",
       "      <td>0</td>\n",
       "    </tr>\n",
       "    <tr>\n",
       "      <th>1</th>\n",
       "      <td>2</td>\n",
       "      <td>0.043000</td>\n",
       "      <td>0.021264</td>\n",
       "      <td>49.97</td>\n",
       "      <td>173.03</td>\n",
       "      <td>0.384511</td>\n",
       "      <td>0.190143</td>\n",
       "      <td>13</td>\n",
       "      <td>3.49</td>\n",
       "      <td>Woman</td>\n",
       "      <td>...</td>\n",
       "      <td>2 Two</td>\n",
       "      <td>otherwise</td>\n",
       "      <td>No</td>\n",
       "      <td>Works</td>\n",
       "      <td>Yes</td>\n",
       "      <td>Yes</td>\n",
       "      <td>Yes</td>\n",
       "      <td>Yes</td>\n",
       "      <td>No</td>\n",
       "      <td>0</td>\n",
       "    </tr>\n",
       "    <tr>\n",
       "      <th>2</th>\n",
       "      <td>3</td>\n",
       "      <td>0.067073</td>\n",
       "      <td>0.067073</td>\n",
       "      <td>0.00</td>\n",
       "      <td>329.90</td>\n",
       "      <td>0.599818</td>\n",
       "      <td>0.599818</td>\n",
       "      <td>13</td>\n",
       "      <td>3.49</td>\n",
       "      <td>Woman</td>\n",
       "      <td>...</td>\n",
       "      <td>1 One</td>\n",
       "      <td>property</td>\n",
       "      <td>No</td>\n",
       "      <td>No couple</td>\n",
       "      <td>No</td>\n",
       "      <td>Yes</td>\n",
       "      <td>No</td>\n",
       "      <td>Yes</td>\n",
       "      <td>No</td>\n",
       "      <td>0</td>\n",
       "    </tr>\n",
       "    <tr>\n",
       "      <th>3</th>\n",
       "      <td>4</td>\n",
       "      <td>0.052700</td>\n",
       "      <td>0.052700</td>\n",
       "      <td>0.00</td>\n",
       "      <td>235.65</td>\n",
       "      <td>0.471300</td>\n",
       "      <td>0.471300</td>\n",
       "      <td>13</td>\n",
       "      <td>3.49</td>\n",
       "      <td>Woman</td>\n",
       "      <td>...</td>\n",
       "      <td>0 Zero</td>\n",
       "      <td>property</td>\n",
       "      <td>No</td>\n",
       "      <td>No couple</td>\n",
       "      <td>Yes</td>\n",
       "      <td>Yes</td>\n",
       "      <td>Few</td>\n",
       "      <td>Yes</td>\n",
       "      <td>No</td>\n",
       "      <td>0</td>\n",
       "    </tr>\n",
       "    <tr>\n",
       "      <th>4</th>\n",
       "      <td>5</td>\n",
       "      <td>0.141880</td>\n",
       "      <td>0.141880</td>\n",
       "      <td>0.00</td>\n",
       "      <td>634.45</td>\n",
       "      <td>1.268900</td>\n",
       "      <td>1.268900</td>\n",
       "      <td>13</td>\n",
       "      <td>3.49</td>\n",
       "      <td>Woman</td>\n",
       "      <td>...</td>\n",
       "      <td>0 Zero</td>\n",
       "      <td>property</td>\n",
       "      <td>No</td>\n",
       "      <td>No couple</td>\n",
       "      <td>Yes</td>\n",
       "      <td>No</td>\n",
       "      <td>No</td>\n",
       "      <td>No</td>\n",
       "      <td>No</td>\n",
       "      <td>0</td>\n",
       "    </tr>\n",
       "    <tr>\n",
       "      <th>...</th>\n",
       "      <td>...</td>\n",
       "      <td>...</td>\n",
       "      <td>...</td>\n",
       "      <td>...</td>\n",
       "      <td>...</td>\n",
       "      <td>...</td>\n",
       "      <td>...</td>\n",
       "      <td>...</td>\n",
       "      <td>...</td>\n",
       "      <td>...</td>\n",
       "      <td>...</td>\n",
       "      <td>...</td>\n",
       "      <td>...</td>\n",
       "      <td>...</td>\n",
       "      <td>...</td>\n",
       "      <td>...</td>\n",
       "      <td>...</td>\n",
       "      <td>...</td>\n",
       "      <td>...</td>\n",
       "      <td>...</td>\n",
       "      <td>...</td>\n",
       "    </tr>\n",
       "    <tr>\n",
       "      <th>89729</th>\n",
       "      <td>89730</td>\n",
       "      <td>0.027941</td>\n",
       "      <td>0.014844</td>\n",
       "      <td>25.00</td>\n",
       "      <td>474.00</td>\n",
       "      <td>0.557647</td>\n",
       "      <td>0.296250</td>\n",
       "      <td>20</td>\n",
       "      <td>0.01</td>\n",
       "      <td>Man</td>\n",
       "      <td>...</td>\n",
       "      <td>0 Zero</td>\n",
       "      <td>property</td>\n",
       "      <td>No</td>\n",
       "      <td>Works</td>\n",
       "      <td>Yes</td>\n",
       "      <td>Yes</td>\n",
       "      <td>No</td>\n",
       "      <td>No</td>\n",
       "      <td>Yes</td>\n",
       "      <td>0</td>\n",
       "    </tr>\n",
       "    <tr>\n",
       "      <th>89730</th>\n",
       "      <td>89731</td>\n",
       "      <td>0.120017</td>\n",
       "      <td>0.068581</td>\n",
       "      <td>179.96</td>\n",
       "      <td>720.03</td>\n",
       "      <td>1.200050</td>\n",
       "      <td>0.685743</td>\n",
       "      <td>10</td>\n",
       "      <td>0.00</td>\n",
       "      <td>Woman</td>\n",
       "      <td>...</td>\n",
       "      <td>2 Two</td>\n",
       "      <td>property</td>\n",
       "      <td>No</td>\n",
       "      <td>Works</td>\n",
       "      <td>Yes</td>\n",
       "      <td>Yes</td>\n",
       "      <td>No</td>\n",
       "      <td>No</td>\n",
       "      <td>Yes</td>\n",
       "      <td>0</td>\n",
       "    </tr>\n",
       "    <tr>\n",
       "      <th>89731</th>\n",
       "      <td>89732</td>\n",
       "      <td>0.153033</td>\n",
       "      <td>0.122427</td>\n",
       "      <td>29.01</td>\n",
       "      <td>550.99</td>\n",
       "      <td>0.459158</td>\n",
       "      <td>0.367327</td>\n",
       "      <td>3</td>\n",
       "      <td>0.00</td>\n",
       "      <td>Man</td>\n",
       "      <td>...</td>\n",
       "      <td>0 Zero</td>\n",
       "      <td>otherwise</td>\n",
       "      <td>No</td>\n",
       "      <td>Works</td>\n",
       "      <td>Yes</td>\n",
       "      <td>Yes</td>\n",
       "      <td>No</td>\n",
       "      <td>Yes</td>\n",
       "      <td>Yes</td>\n",
       "      <td>0</td>\n",
       "    </tr>\n",
       "    <tr>\n",
       "      <th>89732</th>\n",
       "      <td>89733</td>\n",
       "      <td>0.107575</td>\n",
       "      <td>0.043030</td>\n",
       "      <td>53.82</td>\n",
       "      <td>215.18</td>\n",
       "      <td>0.537950</td>\n",
       "      <td>0.215180</td>\n",
       "      <td>5</td>\n",
       "      <td>0.00</td>\n",
       "      <td>Woman</td>\n",
       "      <td>...</td>\n",
       "      <td>1 One</td>\n",
       "      <td>property</td>\n",
       "      <td>Yes</td>\n",
       "      <td>Works</td>\n",
       "      <td>No</td>\n",
       "      <td>Yes</td>\n",
       "      <td>No</td>\n",
       "      <td>No</td>\n",
       "      <td>Yes</td>\n",
       "      <td>0</td>\n",
       "    </tr>\n",
       "    <tr>\n",
       "      <th>89733</th>\n",
       "      <td>89734</td>\n",
       "      <td>0.095750</td>\n",
       "      <td>0.095750</td>\n",
       "      <td>57.48</td>\n",
       "      <td>172.42</td>\n",
       "      <td>0.287367</td>\n",
       "      <td>0.287367</td>\n",
       "      <td>3</td>\n",
       "      <td>0.00</td>\n",
       "      <td>Man</td>\n",
       "      <td>...</td>\n",
       "      <td>0 Zero</td>\n",
       "      <td>otherwise</td>\n",
       "      <td>No</td>\n",
       "      <td>No couple</td>\n",
       "      <td>No</td>\n",
       "      <td>Yes</td>\n",
       "      <td>No</td>\n",
       "      <td>No</td>\n",
       "      <td>Yes</td>\n",
       "      <td>0</td>\n",
       "    </tr>\n",
       "  </tbody>\n",
       "</table>\n",
       "<p>89734 rows × 26 columns</p>\n",
       "</div>"
      ],
      "text/plain": [
       "          ID         A         B       C       D         E         F   G  \\\n",
       "0          1  0.198778  0.099389    0.00  799.90  1.777556  0.888778  13   \n",
       "1          2  0.043000  0.021264   49.97  173.03  0.384511  0.190143  13   \n",
       "2          3  0.067073  0.067073    0.00  329.90  0.599818  0.599818  13   \n",
       "3          4  0.052700  0.052700    0.00  235.65  0.471300  0.471300  13   \n",
       "4          5  0.141880  0.141880    0.00  634.45  1.268900  1.268900  13   \n",
       "...      ...       ...       ...     ...     ...       ...       ...  ..   \n",
       "89729  89730  0.027941  0.014844   25.00  474.00  0.557647  0.296250  20   \n",
       "89730  89731  0.120017  0.068581  179.96  720.03  1.200050  0.685743  10   \n",
       "89731  89732  0.153033  0.122427   29.01  550.99  0.459158  0.367327   3   \n",
       "89732  89733  0.107575  0.043030   53.82  215.18  0.537950  0.215180   5   \n",
       "89733  89734  0.095750  0.095750   57.48  172.42  0.287367  0.287367   3   \n",
       "\n",
       "          H      I  ...       P          Q    R          S    T    U    V  \\\n",
       "0      3.49  Woman  ...   2 Two   property   No      Works  Yes  Yes   No   \n",
       "1      3.49  Woman  ...   2 Two  otherwise   No      Works  Yes  Yes  Yes   \n",
       "2      3.49  Woman  ...   1 One   property   No  No couple   No  Yes   No   \n",
       "3      3.49  Woman  ...  0 Zero   property   No  No couple  Yes  Yes  Few   \n",
       "4      3.49  Woman  ...  0 Zero   property   No  No couple  Yes   No   No   \n",
       "...     ...    ...  ...     ...        ...  ...        ...  ...  ...  ...   \n",
       "89729  0.01    Man  ...  0 Zero   property   No      Works  Yes  Yes   No   \n",
       "89730  0.00  Woman  ...   2 Two   property   No      Works  Yes  Yes   No   \n",
       "89731  0.00    Man  ...  0 Zero  otherwise   No      Works  Yes  Yes   No   \n",
       "89732  0.00  Woman  ...   1 One   property  Yes      Works   No  Yes   No   \n",
       "89733  0.00    Man  ...  0 Zero  otherwise   No  No couple   No  Yes   No   \n",
       "\n",
       "         W    X MARKER  \n",
       "0      Yes   No      0  \n",
       "1      Yes   No      0  \n",
       "2      Yes   No      0  \n",
       "3      Yes   No      0  \n",
       "4       No   No      0  \n",
       "...    ...  ...    ...  \n",
       "89729   No  Yes      0  \n",
       "89730   No  Yes      0  \n",
       "89731  Yes  Yes      0  \n",
       "89732   No  Yes      0  \n",
       "89733   No  Yes      0  \n",
       "\n",
       "[89734 rows x 26 columns]"
      ]
     },
     "execution_count": 2,
     "metadata": {},
     "output_type": "execute_result"
    }
   ],
   "source": [
    "df = pd.read_excel('Training.xlsb', engine='pyxlsb')\n",
    "df"
   ]
  },
  {
   "cell_type": "markdown",
   "id": "07da76b0",
   "metadata": {},
   "source": [
    "**Приводим данные к нужному формату, выделяем небольшую валидационную выборку**"
   ]
  },
  {
   "cell_type": "markdown",
   "id": "3ad75e96",
   "metadata": {},
   "source": [
    "Подробно изучал данные я в первой части, там же можно и прочитать мои развернутые пояснения, касающиеся удаления столбцов"
   ]
  },
  {
   "cell_type": "code",
   "execution_count": 3,
   "id": "cbf63f83",
   "metadata": {},
   "outputs": [],
   "source": [
    "X = df.drop(['MARKER', 'ID', 'P', 'T', 'V', 'E', 'C', 'A'], axis = 1)\n",
    "y = df['MARKER']\n",
    "\n",
    "X_train, X_val, y_train, y_val = train_test_split(\n",
    "        X, y, test_size=0.10, random_state=101)\n",
    "\n",
    "X_train_num = X_train.select_dtypes(exclude = 'object')\n",
    "X_train_cat = X_train.select_dtypes(include = 'object')\n",
    "\n",
    "X_val_num = X_val.select_dtypes(exclude = 'object')\n",
    "X_val_cat = X_val.select_dtypes(include = 'object')\n",
    "\n",
    "scaler = StandardScaler()\n",
    "scaled_X_train_num = scaler.fit_transform(X_train_num)\n",
    "scaled_X_val_num = scaler.transform(X_val_num)\n",
    "\n",
    "oe = OrdinalEncoder()\n",
    "dum_X_train_cat = oe.fit_transform(X_train_cat)\n",
    "dum_X_val_cat = oe.transform(X_val_cat)\n",
    "\n",
    "X_tr = np.hstack([scaled_X_train_num, dum_X_train_cat])\n",
    "X_vl = np.hstack([scaled_X_val_num, dum_X_val_cat])"
   ]
  },
  {
   "cell_type": "markdown",
   "id": "fc836dd9",
   "metadata": {},
   "source": [
    "**Создаем сетку параметров, scale_pos_weight рассчитывался по формуле из документации: sum(negative instances) / sum(positive instances)**"
   ]
  },
  {
   "cell_type": "code",
   "execution_count": 4,
   "id": "861ca8bf",
   "metadata": {},
   "outputs": [],
   "source": [
    "param_grid = {\n",
    "    'max_depth': [1, 2, 3, 4],\n",
    "    'learning_rate': [0.1, 0.01, 0.05],\n",
    "    'gamma': [0, 0.25, 1],\n",
    "    'reg_alpha': [10, 100],\n",
    "    'reg_lambda': [0, 1, 10],\n",
    "    'scale_pos_weight': [262]\n",
    "    \n",
    "}"
   ]
  },
  {
   "cell_type": "code",
   "execution_count": 5,
   "id": "dfdd58b9",
   "metadata": {},
   "outputs": [],
   "source": [
    "XgCv = GridSearchCV(estimator= xgb.XGBClassifier(objective= 'binary:logistic',\n",
    "                                                 colsample_bytree = 0.5),\n",
    "                    param_grid = param_grid,\n",
    "                    scoring = 'roc_auc'\n",
    "                   )"
   ]
  },
  {
   "cell_type": "markdown",
   "id": "e17f4561",
   "metadata": {},
   "source": [
    "**Поиск по сетке**"
   ]
  },
  {
   "cell_type": "code",
   "execution_count": 6,
   "id": "a0584751",
   "metadata": {},
   "outputs": [
    {
     "data": {
      "text/plain": [
       "GridSearchCV(estimator=XGBClassifier(base_score=None, booster=None,\n",
       "                                     callbacks=None, colsample_bylevel=None,\n",
       "                                     colsample_bynode=None,\n",
       "                                     colsample_bytree=0.5, device=None,\n",
       "                                     early_stopping_rounds=None,\n",
       "                                     enable_categorical=False, eval_metric=None,\n",
       "                                     feature_types=None, gamma=None,\n",
       "                                     grow_policy=None, importance_type=None,\n",
       "                                     interaction_constraints=None,\n",
       "                                     learning_rate=None, max_bi...\n",
       "                                     max_delta_step=None, max_depth=None,\n",
       "                                     max_leaves=None, min_child_weight=None,\n",
       "                                     missing=nan, monotone_constraints=None,\n",
       "                                     multi_strategy=None, n_estimators=None,\n",
       "                                     n_jobs=None, num_parallel_tree=None,\n",
       "                                     random_state=None, ...),\n",
       "             param_grid={'gamma': [0, 0.25, 1],\n",
       "                         'learning_rate': [0.1, 0.01, 0.05],\n",
       "                         'max_depth': [1, 2, 3, 4], 'reg_alpha': [10, 100],\n",
       "                         'reg_lambda': [0, 1, 10], 'scale_pos_weight': [262]},\n",
       "             scoring='roc_auc')"
      ]
     },
     "execution_count": 6,
     "metadata": {},
     "output_type": "execute_result"
    }
   ],
   "source": [
    "XgCv.fit(X_tr, y_train)"
   ]
  },
  {
   "cell_type": "code",
   "execution_count": 7,
   "id": "8775b880",
   "metadata": {},
   "outputs": [
    {
     "data": {
      "text/plain": [
       "{'gamma': 0,\n",
       " 'learning_rate': 0.1,\n",
       " 'max_depth': 2,\n",
       " 'reg_alpha': 100,\n",
       " 'reg_lambda': 10,\n",
       " 'scale_pos_weight': 262}"
      ]
     },
     "execution_count": 7,
     "metadata": {},
     "output_type": "execute_result"
    }
   ],
   "source": [
    "XgCv.best_params_"
   ]
  },
  {
   "cell_type": "code",
   "execution_count": 8,
   "id": "0115f9a0",
   "metadata": {},
   "outputs": [
    {
     "data": {
      "text/plain": [
       "0.8796137497151598"
      ]
     },
     "execution_count": 8,
     "metadata": {},
     "output_type": "execute_result"
    }
   ],
   "source": [
    "XgCv.best_score_"
   ]
  },
  {
   "cell_type": "code",
   "execution_count": 9,
   "id": "f01abd1c",
   "metadata": {},
   "outputs": [
    {
     "name": "stdout",
     "output_type": "stream",
     "text": [
      "              precision    recall  f1-score   support\n",
      "\n",
      "           0       1.00      0.82      0.90      8939\n",
      "           1       0.02      0.71      0.03        35\n",
      "\n",
      "    accuracy                           0.82      8974\n",
      "   macro avg       0.51      0.77      0.47      8974\n",
      "weighted avg       0.99      0.82      0.90      8974\n",
      "\n",
      "[[7341 1598]\n",
      " [  10   25]]\n"
     ]
    },
    {
     "data": {
      "text/plain": [
       "0.8627219407731769"
      ]
     },
     "execution_count": 9,
     "metadata": {},
     "output_type": "execute_result"
    }
   ],
   "source": [
    "XgCv_pred = XgCv.predict(X_vl)\n",
    "print(classification_report(y_val,XgCv_pred))\n",
    "cm = confusion_matrix(y_val, XgCv_pred)\n",
    "print(cm)\n",
    "roc_auc_score(y_val, XgCv.predict_proba(X_vl)[:, 1])"
   ]
  },
  {
   "cell_type": "markdown",
   "id": "71e798e0",
   "metadata": {},
   "source": [
    "**Как видно градиентный бустинг дал чуть лучший результат чем адаптивный. Интересно попробовать эту модель на тестовой выборке, но сначала обучим ее на всей тренировочной**"
   ]
  },
  {
   "cell_type": "code",
   "execution_count": 10,
   "id": "ef5e2f51",
   "metadata": {},
   "outputs": [],
   "source": [
    "X_final_tr = np.vstack([X_tr, X_vl])\n",
    "y_final_train = pd.concat([y_train, y_val], axis = 0)"
   ]
  },
  {
   "cell_type": "code",
   "execution_count": 11,
   "id": "f884b79a",
   "metadata": {},
   "outputs": [],
   "source": [
    "final_model = xgb.XGBClassifier(gamma = 0, learning_rate = 0.1,\n",
    "     max_depth = 2,\n",
    "     reg_alpha = 100,\n",
    "     reg_lambda = 0,\n",
    "     scale_pos_weight = 262)"
   ]
  },
  {
   "cell_type": "code",
   "execution_count": 12,
   "id": "13506807",
   "metadata": {},
   "outputs": [
    {
     "data": {
      "text/plain": [
       "XGBClassifier(base_score=None, booster=None, callbacks=None,\n",
       "              colsample_bylevel=None, colsample_bynode=None,\n",
       "              colsample_bytree=None, device=None, early_stopping_rounds=None,\n",
       "              enable_categorical=False, eval_metric=None, feature_types=None,\n",
       "              gamma=0, grow_policy=None, importance_type=None,\n",
       "              interaction_constraints=None, learning_rate=0.1, max_bin=None,\n",
       "              max_cat_threshold=None, max_cat_to_onehot=None,\n",
       "              max_delta_step=None, max_depth=2, max_leaves=None,\n",
       "              min_child_weight=None, missing=nan, monotone_constraints=None,\n",
       "              multi_strategy=None, n_estimators=None, n_jobs=None,\n",
       "              num_parallel_tree=None, random_state=None, ...)"
      ]
     },
     "execution_count": 12,
     "metadata": {},
     "output_type": "execute_result"
    }
   ],
   "source": [
    "final_model.fit(X_final_tr, y_final_train)"
   ]
  },
  {
   "cell_type": "markdown",
   "id": "aa5c4261",
   "metadata": {},
   "source": [
    "**Читаем тестовый датасет, готовим данные для работы модели**"
   ]
  },
  {
   "cell_type": "code",
   "execution_count": 13,
   "id": "17f5933a",
   "metadata": {},
   "outputs": [],
   "source": [
    "test_df =  pd.read_excel('Test.xlsb', engine='pyxlsb')"
   ]
  },
  {
   "cell_type": "code",
   "execution_count": 14,
   "id": "a5d9b87f",
   "metadata": {},
   "outputs": [],
   "source": [
    "X_test = test_df.drop(['MARKER', 'ID', 'P', 'T', 'V', 'E', 'C', 'A'], axis = 1)\n",
    "y_test = test_df['MARKER']\n",
    "X_test_num = X_test.select_dtypes(exclude = 'object')\n",
    "X_test_cat = X_test.select_dtypes(include = 'object')\n",
    "dum_X_test_cat = oe.transform(X_test_cat)\n",
    "X_t = np.hstack([X_test_num, dum_X_test_cat])"
   ]
  },
  {
   "cell_type": "code",
   "execution_count": 15,
   "id": "78a16c35",
   "metadata": {},
   "outputs": [],
   "source": [
    "final_pred = final_model.predict(X_t)"
   ]
  },
  {
   "cell_type": "code",
   "execution_count": 16,
   "id": "e6f44fa4",
   "metadata": {},
   "outputs": [
    {
     "name": "stdout",
     "output_type": "stream",
     "text": [
      "              precision    recall  f1-score   support\n",
      "\n",
      "           0       1.00      0.90      0.94     38259\n",
      "           1       0.02      0.50      0.04       146\n",
      "\n",
      "    accuracy                           0.90     38405\n",
      "   macro avg       0.51      0.70      0.49     38405\n",
      "weighted avg       0.99      0.90      0.94     38405\n",
      "\n",
      "[[34326  3933]\n",
      " [   73    73]]\n",
      "0.8101110241049916\n"
     ]
    }
   ],
   "source": [
    "print(classification_report(y_test,final_pred))\n",
    "cm = confusion_matrix(y_test, final_pred)\n",
    "print(cm)\n",
    "print(roc_auc_score(y_test, final_model.predict_proba(X_t)[:, 1]))"
   ]
  },
  {
   "cell_type": "markdown",
   "id": "7c7da43e",
   "metadata": {},
   "source": [
    "**Не самые удивительные результаты, адаптивный бустинг показывал себя намного лучше на этом датасете**"
   ]
  }
 ],
 "metadata": {
  "kernelspec": {
   "display_name": "Python 3 (ipykernel)",
   "language": "python",
   "name": "python3"
  },
  "language_info": {
   "codemirror_mode": {
    "name": "ipython",
    "version": 3
   },
   "file_extension": ".py",
   "mimetype": "text/x-python",
   "name": "python",
   "nbconvert_exporter": "python",
   "pygments_lexer": "ipython3",
   "version": "3.9.13"
  }
 },
 "nbformat": 4,
 "nbformat_minor": 5
}
